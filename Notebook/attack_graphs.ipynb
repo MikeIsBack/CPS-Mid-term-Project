{
  "nbformat": 4,
  "nbformat_minor": 0,
  "metadata": {
    "colab": {
      "provenance": []
    },
    "kernelspec": {
      "name": "python3",
      "display_name": "Python 3"
    },
    "language_info": {
      "name": "python"
    }
  },
  "cells": [
    {
      "cell_type": "markdown",
      "source": [
        "#Required libraries"
      ],
      "metadata": {
        "id": "KLEIxlvaUy7U"
      }
    },
    {
      "cell_type": "code",
      "source": [
        "import os\n",
        "import re\n",
        "import pandas as pd\n",
        "import matplotlib.pyplot as plt\n",
        "import numpy as np\n",
        "import seaborn as sns"
      ],
      "metadata": {
        "id": "u4DnEy-3Qyur"
      },
      "execution_count": null,
      "outputs": []
    },
    {
      "cell_type": "markdown",
      "source": [
        "# Reading log file"
      ],
      "metadata": {
        "id": "VXmSQoUCU2ac"
      }
    },
    {
      "cell_type": "code",
      "source": [
        "# Define a function to parse the log line\n",
        "def parse_log_line(line):\n",
        "    pattern = (\n",
        "        r\",(\\d+)\"  # Time: milliseconds after the comma\n",
        "        r\".*?ECU's name: ([\\w]+)\" # ECU's name: word before 's\n",
        "        r\".*?TEC value: (\\d+)\"  # TEC value: digits\n",
        "        r\".*?Passive error state: (\\w+)\"  # Passive error state: True/False\n",
        "        r\".*?Bus-off state: (\\w+)\"  # Bus-off state: True/False\n",
        "    )\n",
        "    match = re.search(pattern, line)\n",
        "    if match:\n",
        "        return {\n",
        "            \"Time\": match.group(1),\n",
        "            \"ECU's Name\": match.group(2),\n",
        "            \"TEC Value\": match.group(3),\n",
        "            \"Passive Error State\": match.group(4),\n",
        "            \"Bus-off State\": match.group(5),\n",
        "        }\n",
        "    return None"
      ],
      "metadata": {
        "id": "pXa50gt8Ou80"
      },
      "execution_count": null,
      "outputs": []
    },
    {
      "cell_type": "code",
      "execution_count": null,
      "metadata": {
        "id": "t_jIIcXtQvnG"
      },
      "outputs": [],
      "source": [
        "log_file_path = 'attack_log_one_atk.log' #UPDATE WITH YOUR PATH\n",
        "df = pd.DataFrame()\n",
        "\n",
        "with open(log_file_path, 'r') as log_file:\n",
        "    for line in log_file:\n",
        "        parsed_data = parse_log_line(line)\n",
        "\n",
        "        if parsed_data:\n",
        "            df = pd.concat([df, pd.DataFrame([parsed_data])], ignore_index=True)"
      ]
    },
    {
      "cell_type": "code",
      "source": [
        "df.head()"
      ],
      "metadata": {
        "colab": {
          "base_uri": "https://localhost:8080/",
          "height": 206
        },
        "id": "ap2W1Rq2Q7oi",
        "outputId": "bc4d6f7a-d048-4817-82ac-2dd29216efb2"
      },
      "execution_count": null,
      "outputs": [
        {
          "output_type": "execute_result",
          "data": {
            "text/plain": [
              "  Time ECU's Name TEC Value Passive Error State Bus-off State\n",
              "0  468     Victim         0               False         False\n",
              "1  468   Attacker         0               False         False\n",
              "2  468     Victim         0               False         False\n",
              "3  468     Victim         0               False         False\n",
              "4  469     Victim         0               False         False"
            ],
            "text/html": [
              "\n",
              "  <div id=\"df-7063f63b-e05d-4eb0-ad93-cd06cbed5bdf\" class=\"colab-df-container\">\n",
              "    <div>\n",
              "<style scoped>\n",
              "    .dataframe tbody tr th:only-of-type {\n",
              "        vertical-align: middle;\n",
              "    }\n",
              "\n",
              "    .dataframe tbody tr th {\n",
              "        vertical-align: top;\n",
              "    }\n",
              "\n",
              "    .dataframe thead th {\n",
              "        text-align: right;\n",
              "    }\n",
              "</style>\n",
              "<table border=\"1\" class=\"dataframe\">\n",
              "  <thead>\n",
              "    <tr style=\"text-align: right;\">\n",
              "      <th></th>\n",
              "      <th>Time</th>\n",
              "      <th>ECU's Name</th>\n",
              "      <th>TEC Value</th>\n",
              "      <th>Passive Error State</th>\n",
              "      <th>Bus-off State</th>\n",
              "    </tr>\n",
              "  </thead>\n",
              "  <tbody>\n",
              "    <tr>\n",
              "      <th>0</th>\n",
              "      <td>468</td>\n",
              "      <td>Victim</td>\n",
              "      <td>0</td>\n",
              "      <td>False</td>\n",
              "      <td>False</td>\n",
              "    </tr>\n",
              "    <tr>\n",
              "      <th>1</th>\n",
              "      <td>468</td>\n",
              "      <td>Attacker</td>\n",
              "      <td>0</td>\n",
              "      <td>False</td>\n",
              "      <td>False</td>\n",
              "    </tr>\n",
              "    <tr>\n",
              "      <th>2</th>\n",
              "      <td>468</td>\n",
              "      <td>Victim</td>\n",
              "      <td>0</td>\n",
              "      <td>False</td>\n",
              "      <td>False</td>\n",
              "    </tr>\n",
              "    <tr>\n",
              "      <th>3</th>\n",
              "      <td>468</td>\n",
              "      <td>Victim</td>\n",
              "      <td>0</td>\n",
              "      <td>False</td>\n",
              "      <td>False</td>\n",
              "    </tr>\n",
              "    <tr>\n",
              "      <th>4</th>\n",
              "      <td>469</td>\n",
              "      <td>Victim</td>\n",
              "      <td>0</td>\n",
              "      <td>False</td>\n",
              "      <td>False</td>\n",
              "    </tr>\n",
              "  </tbody>\n",
              "</table>\n",
              "</div>\n",
              "    <div class=\"colab-df-buttons\">\n",
              "\n",
              "  <div class=\"colab-df-container\">\n",
              "    <button class=\"colab-df-convert\" onclick=\"convertToInteractive('df-7063f63b-e05d-4eb0-ad93-cd06cbed5bdf')\"\n",
              "            title=\"Convert this dataframe to an interactive table.\"\n",
              "            style=\"display:none;\">\n",
              "\n",
              "  <svg xmlns=\"http://www.w3.org/2000/svg\" height=\"24px\" viewBox=\"0 -960 960 960\">\n",
              "    <path d=\"M120-120v-720h720v720H120Zm60-500h600v-160H180v160Zm220 220h160v-160H400v160Zm0 220h160v-160H400v160ZM180-400h160v-160H180v160Zm440 0h160v-160H620v160ZM180-180h160v-160H180v160Zm440 0h160v-160H620v160Z\"/>\n",
              "  </svg>\n",
              "    </button>\n",
              "\n",
              "  <style>\n",
              "    .colab-df-container {\n",
              "      display:flex;\n",
              "      gap: 12px;\n",
              "    }\n",
              "\n",
              "    .colab-df-convert {\n",
              "      background-color: #E8F0FE;\n",
              "      border: none;\n",
              "      border-radius: 50%;\n",
              "      cursor: pointer;\n",
              "      display: none;\n",
              "      fill: #1967D2;\n",
              "      height: 32px;\n",
              "      padding: 0 0 0 0;\n",
              "      width: 32px;\n",
              "    }\n",
              "\n",
              "    .colab-df-convert:hover {\n",
              "      background-color: #E2EBFA;\n",
              "      box-shadow: 0px 1px 2px rgba(60, 64, 67, 0.3), 0px 1px 3px 1px rgba(60, 64, 67, 0.15);\n",
              "      fill: #174EA6;\n",
              "    }\n",
              "\n",
              "    .colab-df-buttons div {\n",
              "      margin-bottom: 4px;\n",
              "    }\n",
              "\n",
              "    [theme=dark] .colab-df-convert {\n",
              "      background-color: #3B4455;\n",
              "      fill: #D2E3FC;\n",
              "    }\n",
              "\n",
              "    [theme=dark] .colab-df-convert:hover {\n",
              "      background-color: #434B5C;\n",
              "      box-shadow: 0px 1px 3px 1px rgba(0, 0, 0, 0.15);\n",
              "      filter: drop-shadow(0px 1px 2px rgba(0, 0, 0, 0.3));\n",
              "      fill: #FFFFFF;\n",
              "    }\n",
              "  </style>\n",
              "\n",
              "    <script>\n",
              "      const buttonEl =\n",
              "        document.querySelector('#df-7063f63b-e05d-4eb0-ad93-cd06cbed5bdf button.colab-df-convert');\n",
              "      buttonEl.style.display =\n",
              "        google.colab.kernel.accessAllowed ? 'block' : 'none';\n",
              "\n",
              "      async function convertToInteractive(key) {\n",
              "        const element = document.querySelector('#df-7063f63b-e05d-4eb0-ad93-cd06cbed5bdf');\n",
              "        const dataTable =\n",
              "          await google.colab.kernel.invokeFunction('convertToInteractive',\n",
              "                                                    [key], {});\n",
              "        if (!dataTable) return;\n",
              "\n",
              "        const docLinkHtml = 'Like what you see? Visit the ' +\n",
              "          '<a target=\"_blank\" href=https://colab.research.google.com/notebooks/data_table.ipynb>data table notebook</a>'\n",
              "          + ' to learn more about interactive tables.';\n",
              "        element.innerHTML = '';\n",
              "        dataTable['output_type'] = 'display_data';\n",
              "        await google.colab.output.renderOutput(dataTable, element);\n",
              "        const docLink = document.createElement('div');\n",
              "        docLink.innerHTML = docLinkHtml;\n",
              "        element.appendChild(docLink);\n",
              "      }\n",
              "    </script>\n",
              "  </div>\n",
              "\n",
              "\n",
              "<div id=\"df-58ed0d78-d90f-4759-b77b-c60f3bc50b99\">\n",
              "  <button class=\"colab-df-quickchart\" onclick=\"quickchart('df-58ed0d78-d90f-4759-b77b-c60f3bc50b99')\"\n",
              "            title=\"Suggest charts\"\n",
              "            style=\"display:none;\">\n",
              "\n",
              "<svg xmlns=\"http://www.w3.org/2000/svg\" height=\"24px\"viewBox=\"0 0 24 24\"\n",
              "     width=\"24px\">\n",
              "    <g>\n",
              "        <path d=\"M19 3H5c-1.1 0-2 .9-2 2v14c0 1.1.9 2 2 2h14c1.1 0 2-.9 2-2V5c0-1.1-.9-2-2-2zM9 17H7v-7h2v7zm4 0h-2V7h2v10zm4 0h-2v-4h2v4z\"/>\n",
              "    </g>\n",
              "</svg>\n",
              "  </button>\n",
              "\n",
              "<style>\n",
              "  .colab-df-quickchart {\n",
              "      --bg-color: #E8F0FE;\n",
              "      --fill-color: #1967D2;\n",
              "      --hover-bg-color: #E2EBFA;\n",
              "      --hover-fill-color: #174EA6;\n",
              "      --disabled-fill-color: #AAA;\n",
              "      --disabled-bg-color: #DDD;\n",
              "  }\n",
              "\n",
              "  [theme=dark] .colab-df-quickchart {\n",
              "      --bg-color: #3B4455;\n",
              "      --fill-color: #D2E3FC;\n",
              "      --hover-bg-color: #434B5C;\n",
              "      --hover-fill-color: #FFFFFF;\n",
              "      --disabled-bg-color: #3B4455;\n",
              "      --disabled-fill-color: #666;\n",
              "  }\n",
              "\n",
              "  .colab-df-quickchart {\n",
              "    background-color: var(--bg-color);\n",
              "    border: none;\n",
              "    border-radius: 50%;\n",
              "    cursor: pointer;\n",
              "    display: none;\n",
              "    fill: var(--fill-color);\n",
              "    height: 32px;\n",
              "    padding: 0;\n",
              "    width: 32px;\n",
              "  }\n",
              "\n",
              "  .colab-df-quickchart:hover {\n",
              "    background-color: var(--hover-bg-color);\n",
              "    box-shadow: 0 1px 2px rgba(60, 64, 67, 0.3), 0 1px 3px 1px rgba(60, 64, 67, 0.15);\n",
              "    fill: var(--button-hover-fill-color);\n",
              "  }\n",
              "\n",
              "  .colab-df-quickchart-complete:disabled,\n",
              "  .colab-df-quickchart-complete:disabled:hover {\n",
              "    background-color: var(--disabled-bg-color);\n",
              "    fill: var(--disabled-fill-color);\n",
              "    box-shadow: none;\n",
              "  }\n",
              "\n",
              "  .colab-df-spinner {\n",
              "    border: 2px solid var(--fill-color);\n",
              "    border-color: transparent;\n",
              "    border-bottom-color: var(--fill-color);\n",
              "    animation:\n",
              "      spin 1s steps(1) infinite;\n",
              "  }\n",
              "\n",
              "  @keyframes spin {\n",
              "    0% {\n",
              "      border-color: transparent;\n",
              "      border-bottom-color: var(--fill-color);\n",
              "      border-left-color: var(--fill-color);\n",
              "    }\n",
              "    20% {\n",
              "      border-color: transparent;\n",
              "      border-left-color: var(--fill-color);\n",
              "      border-top-color: var(--fill-color);\n",
              "    }\n",
              "    30% {\n",
              "      border-color: transparent;\n",
              "      border-left-color: var(--fill-color);\n",
              "      border-top-color: var(--fill-color);\n",
              "      border-right-color: var(--fill-color);\n",
              "    }\n",
              "    40% {\n",
              "      border-color: transparent;\n",
              "      border-right-color: var(--fill-color);\n",
              "      border-top-color: var(--fill-color);\n",
              "    }\n",
              "    60% {\n",
              "      border-color: transparent;\n",
              "      border-right-color: var(--fill-color);\n",
              "    }\n",
              "    80% {\n",
              "      border-color: transparent;\n",
              "      border-right-color: var(--fill-color);\n",
              "      border-bottom-color: var(--fill-color);\n",
              "    }\n",
              "    90% {\n",
              "      border-color: transparent;\n",
              "      border-bottom-color: var(--fill-color);\n",
              "    }\n",
              "  }\n",
              "</style>\n",
              "\n",
              "  <script>\n",
              "    async function quickchart(key) {\n",
              "      const quickchartButtonEl =\n",
              "        document.querySelector('#' + key + ' button');\n",
              "      quickchartButtonEl.disabled = true;  // To prevent multiple clicks.\n",
              "      quickchartButtonEl.classList.add('colab-df-spinner');\n",
              "      try {\n",
              "        const charts = await google.colab.kernel.invokeFunction(\n",
              "            'suggestCharts', [key], {});\n",
              "      } catch (error) {\n",
              "        console.error('Error during call to suggestCharts:', error);\n",
              "      }\n",
              "      quickchartButtonEl.classList.remove('colab-df-spinner');\n",
              "      quickchartButtonEl.classList.add('colab-df-quickchart-complete');\n",
              "    }\n",
              "    (() => {\n",
              "      let quickchartButtonEl =\n",
              "        document.querySelector('#df-58ed0d78-d90f-4759-b77b-c60f3bc50b99 button');\n",
              "      quickchartButtonEl.style.display =\n",
              "        google.colab.kernel.accessAllowed ? 'block' : 'none';\n",
              "    })();\n",
              "  </script>\n",
              "</div>\n",
              "\n",
              "    </div>\n",
              "  </div>\n"
            ],
            "application/vnd.google.colaboratory.intrinsic+json": {
              "type": "dataframe",
              "variable_name": "df",
              "summary": "{\n  \"name\": \"df\",\n  \"rows\": 422,\n  \"fields\": [\n    {\n      \"column\": \"Time\",\n      \"properties\": {\n        \"dtype\": \"category\",\n        \"num_unique_values\": 146,\n        \"samples\": [\n          \"514\",\n          \"568\",\n          \"496\"\n        ],\n        \"semantic_type\": \"\",\n        \"description\": \"\"\n      }\n    },\n    {\n      \"column\": \"ECU's Name\",\n      \"properties\": {\n        \"dtype\": \"category\",\n        \"num_unique_values\": 2,\n        \"samples\": [\n          \"Attacker\",\n          \"Victim\"\n        ],\n        \"semantic_type\": \"\",\n        \"description\": \"\"\n      }\n    },\n    {\n      \"column\": \"TEC Value\",\n      \"properties\": {\n        \"dtype\": \"category\",\n        \"num_unique_values\": 178,\n        \"samples\": [\n          \"135\",\n          \"121\"\n        ],\n        \"semantic_type\": \"\",\n        \"description\": \"\"\n      }\n    },\n    {\n      \"column\": \"Passive Error State\",\n      \"properties\": {\n        \"dtype\": \"category\",\n        \"num_unique_values\": 2,\n        \"samples\": [\n          \"True\",\n          \"False\"\n        ],\n        \"semantic_type\": \"\",\n        \"description\": \"\"\n      }\n    },\n    {\n      \"column\": \"Bus-off State\",\n      \"properties\": {\n        \"dtype\": \"category\",\n        \"num_unique_values\": 2,\n        \"samples\": [\n          \"True\",\n          \"False\"\n        ],\n        \"semantic_type\": \"\",\n        \"description\": \"\"\n      }\n    }\n  ]\n}"
            }
          },
          "metadata": {},
          "execution_count": 25
        }
      ]
    },
    {
      "cell_type": "markdown",
      "source": [
        "# Single attack analysis"
      ],
      "metadata": {
        "id": "yj0SmB3YU5If"
      }
    },
    {
      "cell_type": "markdown",
      "source": [
        "Convert int values that are string to int"
      ],
      "metadata": {
        "id": "hUHAaqTVKS32"
      }
    },
    {
      "cell_type": "code",
      "source": [
        "df['TEC Value'] = df['TEC Value'].astype(int)\n",
        "df['Time'] = df['Time'].astype(int)"
      ],
      "metadata": {
        "id": "qTZ8UkQqGvOT"
      },
      "execution_count": null,
      "outputs": []
    },
    {
      "cell_type": "markdown",
      "source": [
        "Adjust time values in order to start from 0"
      ],
      "metadata": {
        "id": "Aw3GaCNeKVz-"
      }
    },
    {
      "cell_type": "code",
      "source": [
        "df['Time'] = df['Time'] - df['Time'][0]"
      ],
      "metadata": {
        "id": "gu9NSEDPKXQi"
      },
      "execution_count": null,
      "outputs": []
    },
    {
      "cell_type": "markdown",
      "source": [
        "We separate the data distinguishing Victim and Attacker"
      ],
      "metadata": {
        "id": "LmQymIESio3Q"
      }
    },
    {
      "cell_type": "code",
      "source": [
        "victim_data = df[df[\"ECU's Name\"] == \"Victim\"].copy()\n",
        "victim_data.reset_index(drop=True, inplace=True)\n",
        "\n",
        "attacker_data = df[df[\"ECU's Name\"] == \"Attacker\"].copy()\n",
        "attacker_data.reset_index(drop=True, inplace=True)"
      ],
      "metadata": {
        "id": "X58g1S-WVxTz"
      },
      "execution_count": null,
      "outputs": []
    },
    {
      "cell_type": "code",
      "source": [
        "attacker_data.head()"
      ],
      "metadata": {
        "colab": {
          "base_uri": "https://localhost:8080/",
          "height": 206
        },
        "id": "Leis4UijVzXU",
        "outputId": "f713f59f-9893-4f0a-e8b7-2453df45bbb3"
      },
      "execution_count": null,
      "outputs": [
        {
          "output_type": "execute_result",
          "data": {
            "text/plain": [
              "   Time ECU's Name  TEC Value Passive Error State Bus-off State\n",
              "0     0   Attacker          0               False         False\n",
              "1    53   Attacker          8               False         False\n",
              "2    53   Attacker         16               False         False\n",
              "3    53   Attacker         24               False         False\n",
              "4    54   Attacker         32               False         False"
            ],
            "text/html": [
              "\n",
              "  <div id=\"df-c9fe9cd6-4790-40ff-857f-dd0818c31747\" class=\"colab-df-container\">\n",
              "    <div>\n",
              "<style scoped>\n",
              "    .dataframe tbody tr th:only-of-type {\n",
              "        vertical-align: middle;\n",
              "    }\n",
              "\n",
              "    .dataframe tbody tr th {\n",
              "        vertical-align: top;\n",
              "    }\n",
              "\n",
              "    .dataframe thead th {\n",
              "        text-align: right;\n",
              "    }\n",
              "</style>\n",
              "<table border=\"1\" class=\"dataframe\">\n",
              "  <thead>\n",
              "    <tr style=\"text-align: right;\">\n",
              "      <th></th>\n",
              "      <th>Time</th>\n",
              "      <th>ECU's Name</th>\n",
              "      <th>TEC Value</th>\n",
              "      <th>Passive Error State</th>\n",
              "      <th>Bus-off State</th>\n",
              "    </tr>\n",
              "  </thead>\n",
              "  <tbody>\n",
              "    <tr>\n",
              "      <th>0</th>\n",
              "      <td>0</td>\n",
              "      <td>Attacker</td>\n",
              "      <td>0</td>\n",
              "      <td>False</td>\n",
              "      <td>False</td>\n",
              "    </tr>\n",
              "    <tr>\n",
              "      <th>1</th>\n",
              "      <td>53</td>\n",
              "      <td>Attacker</td>\n",
              "      <td>8</td>\n",
              "      <td>False</td>\n",
              "      <td>False</td>\n",
              "    </tr>\n",
              "    <tr>\n",
              "      <th>2</th>\n",
              "      <td>53</td>\n",
              "      <td>Attacker</td>\n",
              "      <td>16</td>\n",
              "      <td>False</td>\n",
              "      <td>False</td>\n",
              "    </tr>\n",
              "    <tr>\n",
              "      <th>3</th>\n",
              "      <td>53</td>\n",
              "      <td>Attacker</td>\n",
              "      <td>24</td>\n",
              "      <td>False</td>\n",
              "      <td>False</td>\n",
              "    </tr>\n",
              "    <tr>\n",
              "      <th>4</th>\n",
              "      <td>54</td>\n",
              "      <td>Attacker</td>\n",
              "      <td>32</td>\n",
              "      <td>False</td>\n",
              "      <td>False</td>\n",
              "    </tr>\n",
              "  </tbody>\n",
              "</table>\n",
              "</div>\n",
              "    <div class=\"colab-df-buttons\">\n",
              "\n",
              "  <div class=\"colab-df-container\">\n",
              "    <button class=\"colab-df-convert\" onclick=\"convertToInteractive('df-c9fe9cd6-4790-40ff-857f-dd0818c31747')\"\n",
              "            title=\"Convert this dataframe to an interactive table.\"\n",
              "            style=\"display:none;\">\n",
              "\n",
              "  <svg xmlns=\"http://www.w3.org/2000/svg\" height=\"24px\" viewBox=\"0 -960 960 960\">\n",
              "    <path d=\"M120-120v-720h720v720H120Zm60-500h600v-160H180v160Zm220 220h160v-160H400v160Zm0 220h160v-160H400v160ZM180-400h160v-160H180v160Zm440 0h160v-160H620v160ZM180-180h160v-160H180v160Zm440 0h160v-160H620v160Z\"/>\n",
              "  </svg>\n",
              "    </button>\n",
              "\n",
              "  <style>\n",
              "    .colab-df-container {\n",
              "      display:flex;\n",
              "      gap: 12px;\n",
              "    }\n",
              "\n",
              "    .colab-df-convert {\n",
              "      background-color: #E8F0FE;\n",
              "      border: none;\n",
              "      border-radius: 50%;\n",
              "      cursor: pointer;\n",
              "      display: none;\n",
              "      fill: #1967D2;\n",
              "      height: 32px;\n",
              "      padding: 0 0 0 0;\n",
              "      width: 32px;\n",
              "    }\n",
              "\n",
              "    .colab-df-convert:hover {\n",
              "      background-color: #E2EBFA;\n",
              "      box-shadow: 0px 1px 2px rgba(60, 64, 67, 0.3), 0px 1px 3px 1px rgba(60, 64, 67, 0.15);\n",
              "      fill: #174EA6;\n",
              "    }\n",
              "\n",
              "    .colab-df-buttons div {\n",
              "      margin-bottom: 4px;\n",
              "    }\n",
              "\n",
              "    [theme=dark] .colab-df-convert {\n",
              "      background-color: #3B4455;\n",
              "      fill: #D2E3FC;\n",
              "    }\n",
              "\n",
              "    [theme=dark] .colab-df-convert:hover {\n",
              "      background-color: #434B5C;\n",
              "      box-shadow: 0px 1px 3px 1px rgba(0, 0, 0, 0.15);\n",
              "      filter: drop-shadow(0px 1px 2px rgba(0, 0, 0, 0.3));\n",
              "      fill: #FFFFFF;\n",
              "    }\n",
              "  </style>\n",
              "\n",
              "    <script>\n",
              "      const buttonEl =\n",
              "        document.querySelector('#df-c9fe9cd6-4790-40ff-857f-dd0818c31747 button.colab-df-convert');\n",
              "      buttonEl.style.display =\n",
              "        google.colab.kernel.accessAllowed ? 'block' : 'none';\n",
              "\n",
              "      async function convertToInteractive(key) {\n",
              "        const element = document.querySelector('#df-c9fe9cd6-4790-40ff-857f-dd0818c31747');\n",
              "        const dataTable =\n",
              "          await google.colab.kernel.invokeFunction('convertToInteractive',\n",
              "                                                    [key], {});\n",
              "        if (!dataTable) return;\n",
              "\n",
              "        const docLinkHtml = 'Like what you see? Visit the ' +\n",
              "          '<a target=\"_blank\" href=https://colab.research.google.com/notebooks/data_table.ipynb>data table notebook</a>'\n",
              "          + ' to learn more about interactive tables.';\n",
              "        element.innerHTML = '';\n",
              "        dataTable['output_type'] = 'display_data';\n",
              "        await google.colab.output.renderOutput(dataTable, element);\n",
              "        const docLink = document.createElement('div');\n",
              "        docLink.innerHTML = docLinkHtml;\n",
              "        element.appendChild(docLink);\n",
              "      }\n",
              "    </script>\n",
              "  </div>\n",
              "\n",
              "\n",
              "<div id=\"df-e0394a6e-03cb-4543-aee0-4e67fdffae16\">\n",
              "  <button class=\"colab-df-quickchart\" onclick=\"quickchart('df-e0394a6e-03cb-4543-aee0-4e67fdffae16')\"\n",
              "            title=\"Suggest charts\"\n",
              "            style=\"display:none;\">\n",
              "\n",
              "<svg xmlns=\"http://www.w3.org/2000/svg\" height=\"24px\"viewBox=\"0 0 24 24\"\n",
              "     width=\"24px\">\n",
              "    <g>\n",
              "        <path d=\"M19 3H5c-1.1 0-2 .9-2 2v14c0 1.1.9 2 2 2h14c1.1 0 2-.9 2-2V5c0-1.1-.9-2-2-2zM9 17H7v-7h2v7zm4 0h-2V7h2v10zm4 0h-2v-4h2v4z\"/>\n",
              "    </g>\n",
              "</svg>\n",
              "  </button>\n",
              "\n",
              "<style>\n",
              "  .colab-df-quickchart {\n",
              "      --bg-color: #E8F0FE;\n",
              "      --fill-color: #1967D2;\n",
              "      --hover-bg-color: #E2EBFA;\n",
              "      --hover-fill-color: #174EA6;\n",
              "      --disabled-fill-color: #AAA;\n",
              "      --disabled-bg-color: #DDD;\n",
              "  }\n",
              "\n",
              "  [theme=dark] .colab-df-quickchart {\n",
              "      --bg-color: #3B4455;\n",
              "      --fill-color: #D2E3FC;\n",
              "      --hover-bg-color: #434B5C;\n",
              "      --hover-fill-color: #FFFFFF;\n",
              "      --disabled-bg-color: #3B4455;\n",
              "      --disabled-fill-color: #666;\n",
              "  }\n",
              "\n",
              "  .colab-df-quickchart {\n",
              "    background-color: var(--bg-color);\n",
              "    border: none;\n",
              "    border-radius: 50%;\n",
              "    cursor: pointer;\n",
              "    display: none;\n",
              "    fill: var(--fill-color);\n",
              "    height: 32px;\n",
              "    padding: 0;\n",
              "    width: 32px;\n",
              "  }\n",
              "\n",
              "  .colab-df-quickchart:hover {\n",
              "    background-color: var(--hover-bg-color);\n",
              "    box-shadow: 0 1px 2px rgba(60, 64, 67, 0.3), 0 1px 3px 1px rgba(60, 64, 67, 0.15);\n",
              "    fill: var(--button-hover-fill-color);\n",
              "  }\n",
              "\n",
              "  .colab-df-quickchart-complete:disabled,\n",
              "  .colab-df-quickchart-complete:disabled:hover {\n",
              "    background-color: var(--disabled-bg-color);\n",
              "    fill: var(--disabled-fill-color);\n",
              "    box-shadow: none;\n",
              "  }\n",
              "\n",
              "  .colab-df-spinner {\n",
              "    border: 2px solid var(--fill-color);\n",
              "    border-color: transparent;\n",
              "    border-bottom-color: var(--fill-color);\n",
              "    animation:\n",
              "      spin 1s steps(1) infinite;\n",
              "  }\n",
              "\n",
              "  @keyframes spin {\n",
              "    0% {\n",
              "      border-color: transparent;\n",
              "      border-bottom-color: var(--fill-color);\n",
              "      border-left-color: var(--fill-color);\n",
              "    }\n",
              "    20% {\n",
              "      border-color: transparent;\n",
              "      border-left-color: var(--fill-color);\n",
              "      border-top-color: var(--fill-color);\n",
              "    }\n",
              "    30% {\n",
              "      border-color: transparent;\n",
              "      border-left-color: var(--fill-color);\n",
              "      border-top-color: var(--fill-color);\n",
              "      border-right-color: var(--fill-color);\n",
              "    }\n",
              "    40% {\n",
              "      border-color: transparent;\n",
              "      border-right-color: var(--fill-color);\n",
              "      border-top-color: var(--fill-color);\n",
              "    }\n",
              "    60% {\n",
              "      border-color: transparent;\n",
              "      border-right-color: var(--fill-color);\n",
              "    }\n",
              "    80% {\n",
              "      border-color: transparent;\n",
              "      border-right-color: var(--fill-color);\n",
              "      border-bottom-color: var(--fill-color);\n",
              "    }\n",
              "    90% {\n",
              "      border-color: transparent;\n",
              "      border-bottom-color: var(--fill-color);\n",
              "    }\n",
              "  }\n",
              "</style>\n",
              "\n",
              "  <script>\n",
              "    async function quickchart(key) {\n",
              "      const quickchartButtonEl =\n",
              "        document.querySelector('#' + key + ' button');\n",
              "      quickchartButtonEl.disabled = true;  // To prevent multiple clicks.\n",
              "      quickchartButtonEl.classList.add('colab-df-spinner');\n",
              "      try {\n",
              "        const charts = await google.colab.kernel.invokeFunction(\n",
              "            'suggestCharts', [key], {});\n",
              "      } catch (error) {\n",
              "        console.error('Error during call to suggestCharts:', error);\n",
              "      }\n",
              "      quickchartButtonEl.classList.remove('colab-df-spinner');\n",
              "      quickchartButtonEl.classList.add('colab-df-quickchart-complete');\n",
              "    }\n",
              "    (() => {\n",
              "      let quickchartButtonEl =\n",
              "        document.querySelector('#df-e0394a6e-03cb-4543-aee0-4e67fdffae16 button');\n",
              "      quickchartButtonEl.style.display =\n",
              "        google.colab.kernel.accessAllowed ? 'block' : 'none';\n",
              "    })();\n",
              "  </script>\n",
              "</div>\n",
              "\n",
              "    </div>\n",
              "  </div>\n"
            ],
            "application/vnd.google.colaboratory.intrinsic+json": {
              "type": "dataframe",
              "variable_name": "attacker_data",
              "summary": "{\n  \"name\": \"attacker_data\",\n  \"rows\": 58,\n  \"fields\": [\n    {\n      \"column\": \"Time\",\n      \"properties\": {\n        \"dtype\": \"number\",\n        \"std\": 34,\n        \"min\": 0,\n        \"max\": 150,\n        \"num_unique_values\": 49,\n        \"samples\": [\n          77,\n          145,\n          148\n        ],\n        \"semantic_type\": \"\",\n        \"description\": \"\"\n      }\n    },\n    {\n      \"column\": \"ECU's Name\",\n      \"properties\": {\n        \"dtype\": \"category\",\n        \"num_unique_values\": 1,\n        \"samples\": [\n          \"Attacker\"\n        ],\n        \"semantic_type\": \"\",\n        \"description\": \"\"\n      }\n    },\n    {\n      \"column\": \"TEC Value\",\n      \"properties\": {\n        \"dtype\": \"number\",\n        \"std\": 30,\n        \"min\": 0,\n        \"max\": 128,\n        \"num_unique_values\": 53,\n        \"samples\": [\n          125\n        ],\n        \"semantic_type\": \"\",\n        \"description\": \"\"\n      }\n    },\n    {\n      \"column\": \"Passive Error State\",\n      \"properties\": {\n        \"dtype\": \"category\",\n        \"num_unique_values\": 2,\n        \"samples\": [\n          \"True\"\n        ],\n        \"semantic_type\": \"\",\n        \"description\": \"\"\n      }\n    },\n    {\n      \"column\": \"Bus-off State\",\n      \"properties\": {\n        \"dtype\": \"category\",\n        \"num_unique_values\": 1,\n        \"samples\": [\n          \"False\"\n        ],\n        \"semantic_type\": \"\",\n        \"description\": \"\"\n      }\n    }\n  ]\n}"
            }
          },
          "metadata": {},
          "execution_count": 31
        }
      ]
    },
    {
      "cell_type": "code",
      "source": [
        "victim_data.head()"
      ],
      "metadata": {
        "colab": {
          "base_uri": "https://localhost:8080/",
          "height": 206
        },
        "id": "B5IAKyjmWIhf",
        "outputId": "ef972a2f-aa09-432b-b8c6-fee69c911e98"
      },
      "execution_count": null,
      "outputs": [
        {
          "output_type": "execute_result",
          "data": {
            "text/plain": [
              "   Time ECU's Name  TEC Value Passive Error State Bus-off State\n",
              "0     0     Victim          0               False         False\n",
              "1     0     Victim          0               False         False\n",
              "2     0     Victim          0               False         False\n",
              "3     1     Victim          0               False         False\n",
              "4     2     Victim          0               False         False"
            ],
            "text/html": [
              "\n",
              "  <div id=\"df-435069bd-423b-4e85-bf97-ba5b9db087ff\" class=\"colab-df-container\">\n",
              "    <div>\n",
              "<style scoped>\n",
              "    .dataframe tbody tr th:only-of-type {\n",
              "        vertical-align: middle;\n",
              "    }\n",
              "\n",
              "    .dataframe tbody tr th {\n",
              "        vertical-align: top;\n",
              "    }\n",
              "\n",
              "    .dataframe thead th {\n",
              "        text-align: right;\n",
              "    }\n",
              "</style>\n",
              "<table border=\"1\" class=\"dataframe\">\n",
              "  <thead>\n",
              "    <tr style=\"text-align: right;\">\n",
              "      <th></th>\n",
              "      <th>Time</th>\n",
              "      <th>ECU's Name</th>\n",
              "      <th>TEC Value</th>\n",
              "      <th>Passive Error State</th>\n",
              "      <th>Bus-off State</th>\n",
              "    </tr>\n",
              "  </thead>\n",
              "  <tbody>\n",
              "    <tr>\n",
              "      <th>0</th>\n",
              "      <td>0</td>\n",
              "      <td>Victim</td>\n",
              "      <td>0</td>\n",
              "      <td>False</td>\n",
              "      <td>False</td>\n",
              "    </tr>\n",
              "    <tr>\n",
              "      <th>1</th>\n",
              "      <td>0</td>\n",
              "      <td>Victim</td>\n",
              "      <td>0</td>\n",
              "      <td>False</td>\n",
              "      <td>False</td>\n",
              "    </tr>\n",
              "    <tr>\n",
              "      <th>2</th>\n",
              "      <td>0</td>\n",
              "      <td>Victim</td>\n",
              "      <td>0</td>\n",
              "      <td>False</td>\n",
              "      <td>False</td>\n",
              "    </tr>\n",
              "    <tr>\n",
              "      <th>3</th>\n",
              "      <td>1</td>\n",
              "      <td>Victim</td>\n",
              "      <td>0</td>\n",
              "      <td>False</td>\n",
              "      <td>False</td>\n",
              "    </tr>\n",
              "    <tr>\n",
              "      <th>4</th>\n",
              "      <td>2</td>\n",
              "      <td>Victim</td>\n",
              "      <td>0</td>\n",
              "      <td>False</td>\n",
              "      <td>False</td>\n",
              "    </tr>\n",
              "  </tbody>\n",
              "</table>\n",
              "</div>\n",
              "    <div class=\"colab-df-buttons\">\n",
              "\n",
              "  <div class=\"colab-df-container\">\n",
              "    <button class=\"colab-df-convert\" onclick=\"convertToInteractive('df-435069bd-423b-4e85-bf97-ba5b9db087ff')\"\n",
              "            title=\"Convert this dataframe to an interactive table.\"\n",
              "            style=\"display:none;\">\n",
              "\n",
              "  <svg xmlns=\"http://www.w3.org/2000/svg\" height=\"24px\" viewBox=\"0 -960 960 960\">\n",
              "    <path d=\"M120-120v-720h720v720H120Zm60-500h600v-160H180v160Zm220 220h160v-160H400v160Zm0 220h160v-160H400v160ZM180-400h160v-160H180v160Zm440 0h160v-160H620v160ZM180-180h160v-160H180v160Zm440 0h160v-160H620v160Z\"/>\n",
              "  </svg>\n",
              "    </button>\n",
              "\n",
              "  <style>\n",
              "    .colab-df-container {\n",
              "      display:flex;\n",
              "      gap: 12px;\n",
              "    }\n",
              "\n",
              "    .colab-df-convert {\n",
              "      background-color: #E8F0FE;\n",
              "      border: none;\n",
              "      border-radius: 50%;\n",
              "      cursor: pointer;\n",
              "      display: none;\n",
              "      fill: #1967D2;\n",
              "      height: 32px;\n",
              "      padding: 0 0 0 0;\n",
              "      width: 32px;\n",
              "    }\n",
              "\n",
              "    .colab-df-convert:hover {\n",
              "      background-color: #E2EBFA;\n",
              "      box-shadow: 0px 1px 2px rgba(60, 64, 67, 0.3), 0px 1px 3px 1px rgba(60, 64, 67, 0.15);\n",
              "      fill: #174EA6;\n",
              "    }\n",
              "\n",
              "    .colab-df-buttons div {\n",
              "      margin-bottom: 4px;\n",
              "    }\n",
              "\n",
              "    [theme=dark] .colab-df-convert {\n",
              "      background-color: #3B4455;\n",
              "      fill: #D2E3FC;\n",
              "    }\n",
              "\n",
              "    [theme=dark] .colab-df-convert:hover {\n",
              "      background-color: #434B5C;\n",
              "      box-shadow: 0px 1px 3px 1px rgba(0, 0, 0, 0.15);\n",
              "      filter: drop-shadow(0px 1px 2px rgba(0, 0, 0, 0.3));\n",
              "      fill: #FFFFFF;\n",
              "    }\n",
              "  </style>\n",
              "\n",
              "    <script>\n",
              "      const buttonEl =\n",
              "        document.querySelector('#df-435069bd-423b-4e85-bf97-ba5b9db087ff button.colab-df-convert');\n",
              "      buttonEl.style.display =\n",
              "        google.colab.kernel.accessAllowed ? 'block' : 'none';\n",
              "\n",
              "      async function convertToInteractive(key) {\n",
              "        const element = document.querySelector('#df-435069bd-423b-4e85-bf97-ba5b9db087ff');\n",
              "        const dataTable =\n",
              "          await google.colab.kernel.invokeFunction('convertToInteractive',\n",
              "                                                    [key], {});\n",
              "        if (!dataTable) return;\n",
              "\n",
              "        const docLinkHtml = 'Like what you see? Visit the ' +\n",
              "          '<a target=\"_blank\" href=https://colab.research.google.com/notebooks/data_table.ipynb>data table notebook</a>'\n",
              "          + ' to learn more about interactive tables.';\n",
              "        element.innerHTML = '';\n",
              "        dataTable['output_type'] = 'display_data';\n",
              "        await google.colab.output.renderOutput(dataTable, element);\n",
              "        const docLink = document.createElement('div');\n",
              "        docLink.innerHTML = docLinkHtml;\n",
              "        element.appendChild(docLink);\n",
              "      }\n",
              "    </script>\n",
              "  </div>\n",
              "\n",
              "\n",
              "<div id=\"df-fd73aa93-a40a-4846-ad30-6799a5511ab8\">\n",
              "  <button class=\"colab-df-quickchart\" onclick=\"quickchart('df-fd73aa93-a40a-4846-ad30-6799a5511ab8')\"\n",
              "            title=\"Suggest charts\"\n",
              "            style=\"display:none;\">\n",
              "\n",
              "<svg xmlns=\"http://www.w3.org/2000/svg\" height=\"24px\"viewBox=\"0 0 24 24\"\n",
              "     width=\"24px\">\n",
              "    <g>\n",
              "        <path d=\"M19 3H5c-1.1 0-2 .9-2 2v14c0 1.1.9 2 2 2h14c1.1 0 2-.9 2-2V5c0-1.1-.9-2-2-2zM9 17H7v-7h2v7zm4 0h-2V7h2v10zm4 0h-2v-4h2v4z\"/>\n",
              "    </g>\n",
              "</svg>\n",
              "  </button>\n",
              "\n",
              "<style>\n",
              "  .colab-df-quickchart {\n",
              "      --bg-color: #E8F0FE;\n",
              "      --fill-color: #1967D2;\n",
              "      --hover-bg-color: #E2EBFA;\n",
              "      --hover-fill-color: #174EA6;\n",
              "      --disabled-fill-color: #AAA;\n",
              "      --disabled-bg-color: #DDD;\n",
              "  }\n",
              "\n",
              "  [theme=dark] .colab-df-quickchart {\n",
              "      --bg-color: #3B4455;\n",
              "      --fill-color: #D2E3FC;\n",
              "      --hover-bg-color: #434B5C;\n",
              "      --hover-fill-color: #FFFFFF;\n",
              "      --disabled-bg-color: #3B4455;\n",
              "      --disabled-fill-color: #666;\n",
              "  }\n",
              "\n",
              "  .colab-df-quickchart {\n",
              "    background-color: var(--bg-color);\n",
              "    border: none;\n",
              "    border-radius: 50%;\n",
              "    cursor: pointer;\n",
              "    display: none;\n",
              "    fill: var(--fill-color);\n",
              "    height: 32px;\n",
              "    padding: 0;\n",
              "    width: 32px;\n",
              "  }\n",
              "\n",
              "  .colab-df-quickchart:hover {\n",
              "    background-color: var(--hover-bg-color);\n",
              "    box-shadow: 0 1px 2px rgba(60, 64, 67, 0.3), 0 1px 3px 1px rgba(60, 64, 67, 0.15);\n",
              "    fill: var(--button-hover-fill-color);\n",
              "  }\n",
              "\n",
              "  .colab-df-quickchart-complete:disabled,\n",
              "  .colab-df-quickchart-complete:disabled:hover {\n",
              "    background-color: var(--disabled-bg-color);\n",
              "    fill: var(--disabled-fill-color);\n",
              "    box-shadow: none;\n",
              "  }\n",
              "\n",
              "  .colab-df-spinner {\n",
              "    border: 2px solid var(--fill-color);\n",
              "    border-color: transparent;\n",
              "    border-bottom-color: var(--fill-color);\n",
              "    animation:\n",
              "      spin 1s steps(1) infinite;\n",
              "  }\n",
              "\n",
              "  @keyframes spin {\n",
              "    0% {\n",
              "      border-color: transparent;\n",
              "      border-bottom-color: var(--fill-color);\n",
              "      border-left-color: var(--fill-color);\n",
              "    }\n",
              "    20% {\n",
              "      border-color: transparent;\n",
              "      border-left-color: var(--fill-color);\n",
              "      border-top-color: var(--fill-color);\n",
              "    }\n",
              "    30% {\n",
              "      border-color: transparent;\n",
              "      border-left-color: var(--fill-color);\n",
              "      border-top-color: var(--fill-color);\n",
              "      border-right-color: var(--fill-color);\n",
              "    }\n",
              "    40% {\n",
              "      border-color: transparent;\n",
              "      border-right-color: var(--fill-color);\n",
              "      border-top-color: var(--fill-color);\n",
              "    }\n",
              "    60% {\n",
              "      border-color: transparent;\n",
              "      border-right-color: var(--fill-color);\n",
              "    }\n",
              "    80% {\n",
              "      border-color: transparent;\n",
              "      border-right-color: var(--fill-color);\n",
              "      border-bottom-color: var(--fill-color);\n",
              "    }\n",
              "    90% {\n",
              "      border-color: transparent;\n",
              "      border-bottom-color: var(--fill-color);\n",
              "    }\n",
              "  }\n",
              "</style>\n",
              "\n",
              "  <script>\n",
              "    async function quickchart(key) {\n",
              "      const quickchartButtonEl =\n",
              "        document.querySelector('#' + key + ' button');\n",
              "      quickchartButtonEl.disabled = true;  // To prevent multiple clicks.\n",
              "      quickchartButtonEl.classList.add('colab-df-spinner');\n",
              "      try {\n",
              "        const charts = await google.colab.kernel.invokeFunction(\n",
              "            'suggestCharts', [key], {});\n",
              "      } catch (error) {\n",
              "        console.error('Error during call to suggestCharts:', error);\n",
              "      }\n",
              "      quickchartButtonEl.classList.remove('colab-df-spinner');\n",
              "      quickchartButtonEl.classList.add('colab-df-quickchart-complete');\n",
              "    }\n",
              "    (() => {\n",
              "      let quickchartButtonEl =\n",
              "        document.querySelector('#df-fd73aa93-a40a-4846-ad30-6799a5511ab8 button');\n",
              "      quickchartButtonEl.style.display =\n",
              "        google.colab.kernel.accessAllowed ? 'block' : 'none';\n",
              "    })();\n",
              "  </script>\n",
              "</div>\n",
              "\n",
              "    </div>\n",
              "  </div>\n"
            ],
            "application/vnd.google.colaboratory.intrinsic+json": {
              "type": "dataframe",
              "variable_name": "victim_data",
              "summary": "{\n  \"name\": \"victim_data\",\n  \"rows\": 364,\n  \"fields\": [\n    {\n      \"column\": \"Time\",\n      \"properties\": {\n        \"dtype\": \"number\",\n        \"std\": 43,\n        \"min\": 0,\n        \"max\": 150,\n        \"num_unique_values\": 146,\n        \"samples\": [\n          46,\n          100,\n          28\n        ],\n        \"semantic_type\": \"\",\n        \"description\": \"\"\n      }\n    },\n    {\n      \"column\": \"ECU's Name\",\n      \"properties\": {\n        \"dtype\": \"category\",\n        \"num_unique_values\": 1,\n        \"samples\": [\n          \"Victim\"\n        ],\n        \"semantic_type\": \"\",\n        \"description\": \"\"\n      }\n    },\n    {\n      \"column\": \"TEC Value\",\n      \"properties\": {\n        \"dtype\": \"number\",\n        \"std\": 92,\n        \"min\": 0,\n        \"max\": 256,\n        \"num_unique_values\": 142,\n        \"samples\": [\n          247\n        ],\n        \"semantic_type\": \"\",\n        \"description\": \"\"\n      }\n    },\n    {\n      \"column\": \"Passive Error State\",\n      \"properties\": {\n        \"dtype\": \"category\",\n        \"num_unique_values\": 2,\n        \"samples\": [\n          \"True\"\n        ],\n        \"semantic_type\": \"\",\n        \"description\": \"\"\n      }\n    },\n    {\n      \"column\": \"Bus-off State\",\n      \"properties\": {\n        \"dtype\": \"category\",\n        \"num_unique_values\": 2,\n        \"samples\": [\n          \"True\"\n        ],\n        \"semantic_type\": \"\",\n        \"description\": \"\"\n      }\n    }\n  ]\n}"
            }
          },
          "metadata": {},
          "execution_count": 32
        }
      ]
    },
    {
      "cell_type": "markdown",
      "source": [
        "### Victim and Attacker's TEC during a bus-off attack"
      ],
      "metadata": {
        "id": "JCm83CA2U_p4"
      }
    },
    {
      "cell_type": "code",
      "source": [
        "plt.figure(figsize=(12, 7))\n",
        "\n",
        "plt.plot(victim_data[\"Time\"], victim_data[\"TEC Value\"], 'b-o',\n",
        "         label=\"Victim\", markersize=4, linewidth=1.5)\n",
        "plt.plot(attacker_data[\"Time\"], attacker_data[\"TEC Value\"], 'r-s',\n",
        "         label=\"Attacker\", markersize=4, linewidth=1.5)\n",
        "\n",
        "x_ticks = np.arange(0, 150, 20)\n",
        "plt.xticks(x_ticks, rotation=0, fontsize=10)\n",
        "\n",
        "y_ticks = np.arange(0,256,30)\n",
        "plt.yticks(y_ticks, rotation=0, fontsize=10)\n",
        "\n",
        "plt.xlabel(\"Elapsed Time (ms)\", fontsize=12, labelpad=10)\n",
        "plt.ylabel(\"Transmit Error Count (TEC)\", fontsize=12, labelpad=10)\n",
        "plt.title(\"TEC vs Elapsed Time for Victim and Attacker\", fontsize=14, pad=15)\n",
        "\n",
        "plt.xlim(-5, 150)\n",
        "\n",
        "plt.grid(True, linestyle='--', alpha=0.3)\n",
        "\n",
        "max_tec_index = attacker_data['TEC Value'].idxmax()\n",
        "plt.axvline(x=attacker_data['Time'][max_tec_index], color='r', linestyle='--', label='Transitioning from phase 1 to phase 2')\n",
        "\n",
        "plt.legend(fontsize=11, loc='upper right')\n",
        "\n",
        "plt.tight_layout()\n",
        "plt.show()"
      ],
      "metadata": {
        "colab": {
          "base_uri": "https://localhost:8080/",
          "height": 707
        },
        "id": "VgNfawH6U8DC",
        "outputId": "99e34802-0048-472a-bb1a-68f084d4d9f9"
      },
      "execution_count": null,
      "outputs": [
        {
          "output_type": "display_data",
          "data": {
            "text/plain": [
              "<Figure size 1200x700 with 1 Axes>"
            ],
            "image/png": "[encoded data removed]"
          },
          "metadata": {}
        }
      ]
    },
    {
      "cell_type": "markdown",
      "source": [
        "### Victim's TEC during Phase 1 and 2"
      ],
      "metadata": {
        "id": "CBej5-2qMJqg"
      }
    },
    {
      "cell_type": "markdown",
      "source": [
        "First we find the index of transition between Phase 1 and Phase 2 in order to be able to plot the two separate graphs regarding TEC value of the Victim in Phase 1 and Phase 2."
      ],
      "metadata": {
        "id": "3Fb3ZcVjNcw3"
      }
    },
    {
      "cell_type": "code",
      "source": [
        "transition_index = victim_data[victim_data[\"TEC Value\"]==128].index[0]"
      ],
      "metadata": {
        "id": "nKe-tmyCNR_T"
      },
      "execution_count": null,
      "outputs": []
    },
    {
      "cell_type": "code",
      "source": [
        "phase1 = victim_data.loc[:transition_index]\n",
        "phase2 = victim_data.loc[transition_index:]"
      ],
      "metadata": {
        "id": "FKX9dfxjMX4M"
      },
      "execution_count": null,
      "outputs": []
    },
    {
      "cell_type": "code",
      "source": [
        "fig, axes = plt.subplots(1, 2, figsize=(15, 6))\n",
        "\n",
        "# Plot for Phase 1\n",
        "axes[0].plot(phase1['Time'], phase1['TEC Value'], label='Before Victim goes into Passive Error State', color='blue')\n",
        "axes[0].set_xlabel('Elapsed Time (ms)')\n",
        "axes[0].set_ylabel('Transmit Error Count (TEC)')\n",
        "axes[0].set_title('Phase 1')\n",
        "axes[0].legend()\n",
        "axes[0].grid(True)\n",
        "\n",
        "# Plot for Phase 2\n",
        "axes[1].plot(phase2['Time'], phase2['TEC Value'], label='After Victim goes into Passive Error State', color='red')\n",
        "axes[1].set_xlabel('Elapsed Time (ms)')\n",
        "axes[1].set_ylabel('Transmit Error Count (TEC)')\n",
        "axes[1].set_title('Phase 2')\n",
        "axes[1].legend()\n",
        "axes[1].grid(True)\n",
        "\n",
        "plt.tight_layout()\n",
        "plt.show()"
      ],
      "metadata": {
        "colab": {
          "base_uri": "https://localhost:8080/",
          "height": 607
        },
        "id": "FPXenc3TRFEk",
        "outputId": "31407853-7fef-45c0-bf85-1c9b91e8a64d"
      },
      "execution_count": null,
      "outputs": [
        {
          "output_type": "display_data",
          "data": {
            "text/plain": [
              "<Figure size 1500x600 with 2 Axes>"
            ],
            "image/png": "[encoded data removed]"
          },
          "metadata": {}
        }
      ]
    },
    {
      "cell_type": "markdown",
      "source": [
        "# Delays of bus-off attack under different bus speeds\n",
        "\n",
        "\n"
      ],
      "metadata": {
        "id": "HE_quuhiRohA"
      }
    },
    {
      "cell_type": "markdown",
      "source": [
        "In this section we will explore different bus speeds, going from 250Kbps, 500Kbps to 1000Kbps as the authors of the paper have done. For each speed we have executed 1000 times the attack obtaining the following results.\n",
        "We have analyzed the delay in ms that takes to go to:\n",
        "*   Error-passive state from Error-active state\n",
        "*   Bus-off state from Error-passive state"
      ],
      "metadata": {
        "id": "oHKlGXsxR1Sq"
      }
    },
    {
      "cell_type": "markdown",
      "source": [
        "### 250Kbps case"
      ],
      "metadata": {
        "id": "wAMcvnAYYl-V"
      }
    },
    {
      "cell_type": "code",
      "source": [
        "attacks_250 = []"
      ],
      "metadata": {
        "id": "NMe7VWQ14oCG"
      },
      "execution_count": null,
      "outputs": []
    },
    {
      "cell_type": "code",
      "source": [
        "log_file_path = 'attack_log_250_1katk.log'"
      ],
      "metadata": {
        "id": "tRSDilm9VDdj"
      },
      "execution_count": null,
      "outputs": []
    },
    {
      "cell_type": "markdown",
      "source": [
        "We will define functions that will be used also in the other cases to:\n",
        "- parse the log file now containing 1k attacks\n",
        "- normalize time steps\n",
        "- make the time start from 0"
      ],
      "metadata": {
        "id": "P8FFZ_7-jK22"
      }
    },
    {
      "cell_type": "code",
      "source": [
        "def parse_log_file_to_df(log_file_path):\n",
        "    attacks_int = []  # List to store DataFrames for each attack\n",
        "    attacks = []  # Temporary storage for the current attack's value\n",
        "\n",
        "    with open(log_file_path, 'r') as log_file:\n",
        "        for line in log_file:\n",
        "            # Check for the \"End of the x-th attack\" line\n",
        "            if \"End of the\" in line:\n",
        "                # Store the current attack's times and reset for the next attack\n",
        "                if attacks:\n",
        "                    df = pd.DataFrame(attacks)\n",
        "                    attacks_int.append(df)\n",
        "                    attacks = []\n",
        "            else:\n",
        "                parsed_attack = parse_log_line(line)\n",
        "                if parsed_attack:\n",
        "                    attacks.append(parsed_attack)\n",
        "\n",
        "        # To be sure to have added the last line\n",
        "        if attacks:\n",
        "            df = pd.DataFrame(attacks)\n",
        "            attacks_int.append(df)\n",
        "\n",
        "    return attacks_int"
      ],
      "metadata": {
        "id": "vn8ZPtSrZOAw"
      },
      "execution_count": null,
      "outputs": []
    },
    {
      "cell_type": "code",
      "source": [
        "attacks_250 = parse_log_file_to_df(log_file_path)"
      ],
      "metadata": {
        "id": "O4GGA1NeZQ8f"
      },
      "execution_count": null,
      "outputs": []
    },
    {
      "cell_type": "code",
      "source": [
        "print(f\"Parsed {len(attacks_250)} attacks.\")"
      ],
      "metadata": {
        "colab": {
          "base_uri": "https://localhost:8080/"
        },
        "id": "CIO6SyOVOyGx",
        "outputId": "07810b52-6c03-4b85-f8a0-f3a9062706df"
      },
      "execution_count": null,
      "outputs": [
        {
          "output_type": "stream",
          "name": "stdout",
          "text": [
            "Parsed 1000 attacks.\n"
          ]
        }
      ]
    },
    {
      "cell_type": "markdown",
      "source": [
        "Transform string values to int"
      ],
      "metadata": {
        "id": "PDo7s3d2PUAm"
      }
    },
    {
      "cell_type": "code",
      "source": [
        "def transform_int(attacks_int):\n",
        "  for df in attacks_int:\n",
        "    df['Time'] = df['Time'].astype(int)\n",
        "    df['TEC Value'] = df['TEC Value'].astype(int)\n",
        "\n",
        "  return attacks_int"
      ],
      "metadata": {
        "id": "a-BQ1RrNxT_H"
      },
      "execution_count": null,
      "outputs": []
    },
    {
      "cell_type": "code",
      "source": [
        "attacks_250 = transform_int(attacks_250)"
      ],
      "metadata": {
        "id": "ECAkHbcfPTOP"
      },
      "execution_count": null,
      "outputs": []
    },
    {
      "cell_type": "markdown",
      "source": [
        "Normalization of each time step:\n",
        "\n",
        "Since we're working with milliseconds (ms) we have to normalize the values in order to let it start from 0 and consider subsequent numbers after 999. For this latter reason we added 1000 to be able to maintain the monotonic increase of the time."
      ],
      "metadata": {
        "id": "BUle2Xe16NJc"
      }
    },
    {
      "cell_type": "code",
      "source": [
        "def normalize_time(attacks_int):\n",
        "  for df in attacks_int:\n",
        "    increase = False\n",
        "    for i in range(len(df)):\n",
        "        if increase:\n",
        "            df.at[i, 'Time'] += 1000\n",
        "\n",
        "        if i + 1 < len(df):\n",
        "            if df.at[i + 1, 'Time'] < df.at[i, 'Time']:\n",
        "                increase = True\n",
        "  return attacks_int"
      ],
      "metadata": {
        "id": "8pn0xnI3xqZ4"
      },
      "execution_count": null,
      "outputs": []
    },
    {
      "cell_type": "code",
      "source": [
        "attacks_250 = normalize_time(attacks_250)"
      ],
      "metadata": {
        "id": "ssz2Ed9MRcTM"
      },
      "execution_count": null,
      "outputs": []
    },
    {
      "cell_type": "code",
      "source": [
        "def subtract_baseline(attacks_int):\n",
        "  for df in attacks_int:\n",
        "    df['Time'] = df['Time'] - df['Time'][0]\n",
        "\n",
        "  return attacks_int"
      ],
      "metadata": {
        "id": "LbhsoXR0xX4t"
      },
      "execution_count": null,
      "outputs": []
    },
    {
      "cell_type": "code",
      "source": [
        "attacks_250 = subtract_baseline(attacks_250)"
      ],
      "metadata": {
        "id": "j7jqW_QbVvMp"
      },
      "execution_count": null,
      "outputs": []
    },
    {
      "cell_type": "markdown",
      "source": [
        "Now we care just of the last value of each attack to calculate the delay for the 250Kbps case."
      ],
      "metadata": {
        "id": "fJMwDgxiJmno"
      }
    },
    {
      "cell_type": "code",
      "source": [
        "final_time_250 = []\n",
        "for attack in attacks_250:\n",
        "  attack = pd.DataFrame(attack)\n",
        "  time=0\n",
        "  for i in range(len(attack)):\n",
        "      if attack.iloc[i]['Passive Error State'] == 'True':\n",
        "        time = attack.iloc[i]['Time']\n",
        "        break\n",
        "  final_time_250.append(attack.iloc[-1]['Time']-time)"
      ],
      "metadata": {
        "id": "_L2Tds8WJSD-"
      },
      "execution_count": null,
      "outputs": []
    },
    {
      "cell_type": "markdown",
      "source": [
        "### 500Kbps case"
      ],
      "metadata": {
        "id": "4wg89DUAYYNL"
      }
    },
    {
      "cell_type": "code",
      "source": [
        "log_file_path = \"attack_log_500_1katk.log\" #UPDATE WITH YOUR PATH"
      ],
      "metadata": {
        "id": "RSDM1tymZuyD"
      },
      "execution_count": null,
      "outputs": []
    },
    {
      "cell_type": "code",
      "source": [
        "attacks_500 = parse_log_file_to_df(log_file_path)"
      ],
      "metadata": {
        "id": "rxbVuVJIYM-R"
      },
      "execution_count": null,
      "outputs": []
    },
    {
      "cell_type": "code",
      "source": [
        "print(f\"Parsed {len(attacks_500)} attacks.\")"
      ],
      "metadata": {
        "id": "U6yiH6uXZ7C4",
        "colab": {
          "base_uri": "https://localhost:8080/"
        },
        "outputId": "947d818e-7b33-4729-e77f-5884da52cf96"
      },
      "execution_count": null,
      "outputs": [
        {
          "output_type": "stream",
          "name": "stdout",
          "text": [
            "Parsed 1000 attacks.\n"
          ]
        }
      ]
    },
    {
      "cell_type": "code",
      "source": [
        "attacks_500 = transform_int(attacks_500)"
      ],
      "metadata": {
        "id": "J6LSi0LH1dc5"
      },
      "execution_count": null,
      "outputs": []
    },
    {
      "cell_type": "code",
      "source": [
        "attacks_500 = normalize_time(attacks_500)"
      ],
      "metadata": {
        "id": "MzOOx_FO1hY7"
      },
      "execution_count": null,
      "outputs": []
    },
    {
      "cell_type": "code",
      "source": [
        "attacks_500 = subtract_baseline(attacks_500)"
      ],
      "metadata": {
        "id": "zUy7XcSG1h_e"
      },
      "execution_count": null,
      "outputs": []
    },
    {
      "cell_type": "code",
      "source": [
        "final_time_500 = []\n",
        "for attack in attacks_500:\n",
        "  attack = pd.DataFrame(attack)\n",
        "  time=0\n",
        "  for i in range(len(attack)):\n",
        "      if attack.iloc[i]['Passive Error State'] == 'True':\n",
        "        time = attack.iloc[i]['Time']\n",
        "        break\n",
        "  final_time_500.append(attack.iloc[-1]['Time']-time)"
      ],
      "metadata": {
        "id": "nhJD1tVE1mbm"
      },
      "execution_count": null,
      "outputs": []
    },
    {
      "cell_type": "markdown",
      "source": [
        "### 1000Kbps case"
      ],
      "metadata": {
        "id": "Vz0F0kxFYreR"
      }
    },
    {
      "cell_type": "code",
      "source": [
        "log_file_path = \"attack_log_1000_1katk.log\" #UPDATE WITH YOUR PATH"
      ],
      "metadata": {
        "id": "DbpdNEeYZ1Ac"
      },
      "execution_count": null,
      "outputs": []
    },
    {
      "cell_type": "code",
      "source": [
        "attacks_1000 = parse_log_file_to_df(log_file_path)"
      ],
      "metadata": {
        "id": "qHspH4ZjYtX3"
      },
      "execution_count": null,
      "outputs": []
    },
    {
      "cell_type": "code",
      "source": [
        "print(f\"Parsed {len(attacks_1000)} attacks.\")"
      ],
      "metadata": {
        "id": "lqcktwRiZ8Yq",
        "colab": {
          "base_uri": "https://localhost:8080/"
        },
        "outputId": "e018a85f-6024-4e6f-974e-985fca38e693"
      },
      "execution_count": null,
      "outputs": [
        {
          "output_type": "stream",
          "name": "stdout",
          "text": [
            "Parsed 1000 attacks.\n"
          ]
        }
      ]
    },
    {
      "cell_type": "code",
      "source": [
        "attacks_1000 = transform_int(attacks_1000)"
      ],
      "metadata": {
        "id": "qJBpIpac-F3I"
      },
      "execution_count": null,
      "outputs": []
    },
    {
      "cell_type": "code",
      "source": [
        "attacks_1000 = normalize_time(attacks_1000)"
      ],
      "metadata": {
        "id": "0l9zb6qm-FOh"
      },
      "execution_count": null,
      "outputs": []
    },
    {
      "cell_type": "code",
      "source": [
        "attacks_1000 = subtract_baseline(attacks_1000)"
      ],
      "metadata": {
        "id": "-DbxuKOw-FEl"
      },
      "execution_count": null,
      "outputs": []
    },
    {
      "cell_type": "markdown",
      "source": [
        "Analyzing this case using 1000Kbps we noticed that some attacks:\n",
        "*   Victim did not go in error-passive mode\n",
        "*   Victim went in error-passive mode and did not go in bus-off state\n",
        "*   Victim went in error-passive mode and went in bus-off state\n",
        "\n",
        "\n"
      ],
      "metadata": {
        "id": "xIPdxQHfF3ya"
      }
    },
    {
      "cell_type": "code",
      "source": [
        "error_passive = 0\n",
        "error_passive_nobusoff = 0"
      ],
      "metadata": {
        "id": "rdduTMEzFWxf"
      },
      "execution_count": null,
      "outputs": []
    },
    {
      "cell_type": "code",
      "source": [
        "for attack in attacks_1000:\n",
        "  attack = pd.DataFrame(attack)\n",
        "  if attack.iloc[-1]['Passive Error State'] == 'True' and attack.iloc[-1]['ECU\\'s Name'] == 'Victim':\n",
        "    error_passive += 1\n",
        "    if attack.iloc[-1]['Bus-off State'] == 'False':\n",
        "      error_passive_nobusoff += 1"
      ],
      "metadata": {
        "id": "Z6PWXPUaFYk8"
      },
      "execution_count": null,
      "outputs": []
    },
    {
      "cell_type": "code",
      "source": [
        "no_error_passive = 1000-error_passive\n",
        "print(f\"Number of attacks were the Victim did not reach error-passive mode: {no_error_passive}\")"
      ],
      "metadata": {
        "colab": {
          "base_uri": "https://localhost:8080/"
        },
        "id": "_pHRFoDwFaBd",
        "outputId": "ef08d304-d198-450c-911c-b0554e012513"
      },
      "execution_count": null,
      "outputs": [
        {
          "output_type": "stream",
          "name": "stdout",
          "text": [
            "Number of attacks were the Victim did not reach error-passive mode: 17\n"
          ]
        }
      ]
    },
    {
      "cell_type": "code",
      "source": [
        "print(f\"Number of attacks were the Victim went in error-passive mode but did not go in bus-off state: {error_passive_nobusoff}\")"
      ],
      "metadata": {
        "colab": {
          "base_uri": "https://localhost:8080/"
        },
        "id": "IgD-oGfpGXBq",
        "outputId": "bddabebe-9026-4bf9-d09d-1466f99dbfed"
      },
      "execution_count": null,
      "outputs": [
        {
          "output_type": "stream",
          "name": "stdout",
          "text": [
            "Number of attacks were the Victim went in error-passive mode but did not go in bus-off state: 1\n"
          ]
        }
      ]
    },
    {
      "cell_type": "markdown",
      "source": [
        "### Final comparison between the cases"
      ],
      "metadata": {
        "id": "alhX70nvYv6m"
      }
    },
    {
      "cell_type": "markdown",
      "source": [
        "In the following box plots we can notice the comparison between different bus speeds of:\n",
        "*   Error-passive mode from Error-active mode\n",
        "*   Bus-off state from Error-passive mode\n",
        "\n"
      ],
      "metadata": {
        "id": "xBnAFykDDSao"
      }
    },
    {
      "cell_type": "code",
      "source": [
        "time_error_passive_1000 = []\n",
        "time_error_passive_500 = []\n",
        "time_error_passive_250 = []"
      ],
      "metadata": {
        "id": "0_BKNZNWKnVt"
      },
      "execution_count": null,
      "outputs": []
    },
    {
      "cell_type": "code",
      "source": [
        "def time_passive_error_state(attacks_int,time_error_passive):\n",
        "  for attack in attacks_int:\n",
        "    attack = pd.DataFrame(attack)\n",
        "    for i in range(len(attack)):\n",
        "      if attack.iloc[i]['Passive Error State'] == 'True':\n",
        "        time = attack.iloc[i]['Time']\n",
        "        time_error_passive.append(time)\n",
        "        break"
      ],
      "metadata": {
        "id": "pcH91ddfKqrc"
      },
      "execution_count": null,
      "outputs": []
    },
    {
      "cell_type": "code",
      "source": [
        "time_passive_error_state(attacks_1000,time_error_passive_1000)"
      ],
      "metadata": {
        "id": "c6wxJeQrHsje"
      },
      "execution_count": null,
      "outputs": []
    },
    {
      "cell_type": "code",
      "source": [
        "time_passive_error_state(attacks_500,time_error_passive_500)"
      ],
      "metadata": {
        "id": "NTTPwBPMJgGb"
      },
      "execution_count": null,
      "outputs": []
    },
    {
      "cell_type": "code",
      "source": [
        "time_passive_error_state(attacks_250,time_error_passive_250)"
      ],
      "metadata": {
        "id": "XJwKH_zuJkW9"
      },
      "execution_count": null,
      "outputs": []
    },
    {
      "cell_type": "code",
      "source": [
        "data_250 = pd.DataFrame({'CAN bus speed': ['250Kbps'] * len(time_error_passive_250), 'Delay (ms)': time_error_passive_250})\n",
        "data_500 = pd.DataFrame({'CAN bus speed': ['500Kbps'] * len(time_error_passive_500), 'Delay (ms)': time_error_passive_500})\n",
        "data_1000 = pd.DataFrame({'CAN bus speed': ['1000Kbps'] * len(time_error_passive_1000), 'Delay (ms)': time_error_passive_1000})\n",
        "\n",
        "combined_data = pd.concat([data_250, data_500, data_1000], ignore_index=True)"
      ],
      "metadata": {
        "id": "NBigALekDr7c"
      },
      "execution_count": null,
      "outputs": []
    },
    {
      "cell_type": "code",
      "source": [
        "sns.boxplot(x='CAN bus speed', y='Delay (ms)', data=combined_data)\n",
        "\n",
        "plt.title('Error-passive')\n",
        "plt.xlabel('CAN bus speed')\n",
        "plt.ylabel('Delay (ms)')\n",
        "\n",
        "plt.ylim(0, 170)\n",
        "\n",
        "plt.show()"
      ],
      "metadata": {
        "colab": {
          "base_uri": "https://localhost:8080/",
          "height": 472
        },
        "id": "-pgKL1XdJ6_q",
        "outputId": "f44303ac-74eb-4613-85d5-a5976c1481e9"
      },
      "execution_count": null,
      "outputs": [
        {
          "output_type": "display_data",
          "data": {
            "text/plain": [
              "<Figure size 640x480 with 1 Axes>"
            ],
            "image/png": "[encoded data removed]"
          },
          "metadata": {}
        }
      ]
    },
    {
      "cell_type": "markdown",
      "source": [
        "So far the attacks changing the bus speed were 100% successful, however we have noticed that few attacks were not successful using this speed. To complete the comparison we decided to take them off since the amount of failures were just a few."
      ],
      "metadata": {
        "id": "r1E9bGTtI_zW"
      }
    },
    {
      "cell_type": "code",
      "source": [
        "failed_atks = 0"
      ],
      "metadata": {
        "id": "jRszuItgJBxg"
      },
      "execution_count": null,
      "outputs": []
    },
    {
      "cell_type": "code",
      "source": [
        "for i in range(len(attacks_1000) - 1, -1, -1):\n",
        "    attack = pd.DataFrame(attacks_1000[i])\n",
        "    if attack.iloc[-1]['Bus-off State'] == 'False':\n",
        "        failed_atks += 1\n",
        "        del attacks_1000[i]"
      ],
      "metadata": {
        "id": "7UTl1e3-JDeG"
      },
      "execution_count": null,
      "outputs": []
    },
    {
      "cell_type": "code",
      "source": [
        "categories = ['Fail', 'Success']\n",
        "counts = [failed_atks, len(attacks_1000)]\n",
        "\n",
        "plt.bar(categories, counts, color=['red', 'green'], edgecolor='black')\n",
        "\n",
        "for i, count in enumerate(counts):\n",
        "    plt.text(i, count + 1, str(count), ha='center', va='bottom', fontsize=10, color='black')\n",
        "\n",
        "plt.xlabel('Result')\n",
        "plt.ylabel('Attempts')\n",
        "plt.title('Succeded and failed attacks')\n",
        "plt.show()"
      ],
      "metadata": {
        "colab": {
          "base_uri": "https://localhost:8080/",
          "height": 472
        },
        "id": "2c6VHW7KJFYw",
        "outputId": "f91655ef-f9ca-498d-9121-54f5f8303307"
      },
      "execution_count": null,
      "outputs": [
        {
          "output_type": "display_data",
          "data": {
            "text/plain": [
              "<Figure size 640x480 with 1 Axes>"
            ],
            "image/png": "[encoded data removed]"
          },
          "metadata": {}
        }
      ]
    },
    {
      "cell_type": "markdown",
      "source": [
        "Analyzing the log of the failed attacks, we notice that this high speed of the bus could have made our pattern detection algorithm fail to detect the correct pattern."
      ],
      "metadata": {
        "id": "-gBvvw0lx4ZI"
      }
    },
    {
      "cell_type": "code",
      "source": [
        "final_time_1000 = []\n",
        "for attack in attacks_1000:\n",
        "  attack = pd.DataFrame(attack)\n",
        "  time=0\n",
        "  for i in range(len(attack)):\n",
        "      if attack.iloc[i]['Passive Error State'] == 'True':\n",
        "        time = attack.iloc[i]['Time']\n",
        "        break\n",
        "  final_time_1000.append(attack.iloc[-1]['Time']-time)"
      ],
      "metadata": {
        "id": "EFfly3FTJG3-"
      },
      "execution_count": null,
      "outputs": []
    },
    {
      "cell_type": "code",
      "source": [
        "data_250 = pd.DataFrame({'CAN bus speed': ['250Kbps'] * len(final_time_250), 'Delay (ms)': final_time_250})\n",
        "data_500 = pd.DataFrame({'CAN bus speed': ['500Kbps'] * len(final_time_500), 'Delay (ms)': final_time_500})\n",
        "data_1000 = pd.DataFrame({'CAN bus speed': ['1000Kbps'] * len(final_time_1000), 'Delay (ms)': final_time_1000})\n",
        "\n",
        "combined_data = pd.concat([data_250, data_500, data_1000], ignore_index=True)"
      ],
      "metadata": {
        "id": "9vj8jOGVAt6P"
      },
      "execution_count": null,
      "outputs": []
    },
    {
      "cell_type": "code",
      "source": [
        "sns.boxplot(x='CAN bus speed', y='Delay (ms)', data=combined_data)\n",
        "\n",
        "plt.title('Bus-off')\n",
        "plt.xlabel('CAN bus speed')\n",
        "plt.ylabel('Delay (ms)')\n",
        "\n",
        "plt.ylim(0, 270)\n",
        "\n",
        "plt.show()"
      ],
      "metadata": {
        "colab": {
          "base_uri": "https://localhost:8080/",
          "height": 472
        },
        "id": "X1cJiEvnAZGt",
        "outputId": "d944a1d6-88f0-40d5-c64f-c377707aa8cc"
      },
      "execution_count": null,
      "outputs": [
        {
          "output_type": "display_data",
          "data": {
            "text/plain": [
              "<Figure size 640x480 with 1 Axes>"
            ],
            "image/png": "[encoded data removed]"
          },
          "metadata": {}
        }
      ]
    },
    {
      "cell_type": "markdown",
      "source": [
        "# Conclusions\n",
        "We started analyzing a single attack, successfully replicating the authors' results. Key observations include:\n",
        "\n",
        "- TEC Behavior (1st Graph): During Phase 1, TEC values for both the Victim and the Attacker increase monotonically. In Phase 2, the Attacker's TEC decreases while the Victim's TEC increases, confirming the attack's success.\n",
        "- Stepwise TEC Increase (2nd Graph Pair): The left graph shows the Victim's TEC rising monotonically in Phase 1. The right graph highlights a stepwise TEC increase in Phase 2, as the Victim transmits successfully only after a bit error (its TEC rises by 8 and then drops by 1).\n",
        "\n",
        "In the bus speed experiment, we varied the CAN bus speed to examine its effect on the attack. At 250 Kbps, the delay showed greater variability, indicating higher susceptibility to timing inconsistencies. At higher speeds (500 Kbps and 1000 Kbps), the delay stabilized, but transitions to Error-Passive and Bus-Off modes occurred more quickly, showing that increased speed accelerates critical error states."
      ],
      "metadata": {
        "id": "JRL81_TJKLLQ"
      }
    }
  ]
}